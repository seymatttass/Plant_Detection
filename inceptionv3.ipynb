{
  "cells": [
    {
      "cell_type": "markdown",
      "metadata": {
        "id": "view-in-github",
        "colab_type": "text"
      },
      "source": [
        "<a href=\"https://colab.research.google.com/github/seymatttass/Plant_Detection/blob/main/inceptionv3.ipynb\" target=\"_parent\"><img src=\"https://colab.research.google.com/assets/colab-badge.svg\" alt=\"Open In Colab\"/></a>"
      ]
    },
    {
      "cell_type": "code",
      "execution_count": null,
      "metadata": {
        "id": "h26sX4p75Z04"
      },
      "outputs": [],
      "source": [
        "from keras.applications import InceptionV3\n",
        "from keras.layers import Dense, GlobalAveragePooling2D, Dropout\n",
        "from keras.models import Model, Sequential\n",
        "from keras.preprocessing.image import ImageDataGenerator\n",
        "from keras.callbacks import ModelCheckpoint, EarlyStopping"
      ]
    },
    {
      "cell_type": "code",
      "execution_count": null,
      "metadata": {
        "id": "NYhGeSN3o3DK",
        "colab": {
          "base_uri": "https://localhost:8080/"
        },
        "outputId": "e5650d6e-9709-4189-e09e-1cfca58d1686"
      },
      "outputs": [
        {
          "output_type": "stream",
          "name": "stdout",
          "text": [
            "Mounted at /content/drive\n"
          ]
        }
      ],
      "source": [
        "from google.colab import drive\n",
        "drive.mount('/content/drive')"
      ]
    },
    {
      "cell_type": "code",
      "execution_count": null,
      "metadata": {
        "id": "GioX3azC6aJt"
      },
      "outputs": [],
      "source": [
        "train_path = '/content/drive/MyDrive/AYZEK-Kanarya/dataset/train'\n",
        "test_path = '/content/drive/MyDrive/AYZEK-Kanarya/dataset/test'\n",
        "val_path = '/content/drive/MyDrive/AYZEK-Kanarya/dataset/val'"
      ]
    },
    {
      "cell_type": "code",
      "execution_count": null,
      "metadata": {
        "id": "JW1D7yBa6Wv-"
      },
      "outputs": [],
      "source": [
        "train_data_gen = ImageDataGenerator(rescale=1/255)\n",
        "test_data_gen = ImageDataGenerator(rescale=1/255)\n",
        "val_data_gen = ImageDataGenerator(rescale=1/255)\n"
      ]
    },
    {
      "cell_type": "code",
      "execution_count": null,
      "metadata": {
        "id": "9RK1bYO76Wh6",
        "colab": {
          "base_uri": "https://localhost:8080/"
        },
        "outputId": "8a547274-d302-4353-ceba-e0c997fbca21"
      },
      "outputs": [
        {
          "output_type": "stream",
          "name": "stdout",
          "text": [
            "Found 1207 images belonging to 4 classes.\n"
          ]
        }
      ],
      "source": [
        "train_generator = train_data_gen.flow_from_directory(\n",
        "        train_path,\n",
        "        target_size=(299, 299),\n",
        "        batch_size=16,\n",
        "        class_mode='categorical')"
      ]
    },
    {
      "cell_type": "code",
      "execution_count": null,
      "metadata": {
        "id": "OhWQnugw6UCD",
        "colab": {
          "base_uri": "https://localhost:8080/"
        },
        "outputId": "a6b96d19-daeb-46f6-d459-90d3999cdecf"
      },
      "outputs": [
        {
          "output_type": "stream",
          "name": "stdout",
          "text": [
            "Found 154 images belonging to 4 classes.\n"
          ]
        }
      ],
      "source": [
        "test_generator = test_data_gen.flow_from_directory(\n",
        "    test_path,\n",
        "    target_size=(299, 299),\n",
        "    batch_size=16,\n",
        "    class_mode='categorical'\n",
        ")"
      ]
    },
    {
      "cell_type": "code",
      "execution_count": null,
      "metadata": {
        "id": "6fGvuh5z6qsY",
        "colab": {
          "base_uri": "https://localhost:8080/"
        },
        "outputId": "3640e785-5bf4-4e4e-f5ab-c55f900d9ce5"
      },
      "outputs": [
        {
          "output_type": "stream",
          "name": "stdout",
          "text": [
            "Found 150 images belonging to 4 classes.\n"
          ]
        }
      ],
      "source": [
        "val_generator = val_data_gen.flow_from_directory(\n",
        "    val_path,\n",
        "    target_size=(299, 299),\n",
        "    batch_size=16,\n",
        "    class_mode='categorical'\n",
        "\n",
        ")"
      ]
    },
    {
      "cell_type": "code",
      "execution_count": null,
      "metadata": {
        "id": "3ZbJgfWV6tlc"
      },
      "outputs": [],
      "source": [
        "checkpoint = ModelCheckpoint(\n",
        "    f'/content/drive/MyDrive/muhendislik-tasarimi/GoogleNet/inceptionv3_model_enyenisi.h5',\n",
        "     monitor='val_accuracy',\n",
        "     verbose=1,\n",
        "     save_best_only=True,\n",
        "     mode = 'max'\n",
        ")"
      ]
    },
    {
      "cell_type": "code",
      "execution_count": null,
      "metadata": {
        "id": "6D96KVMl6t4e"
      },
      "outputs": [],
      "source": [
        "earlystop = EarlyStopping(monitor='val_accuracy',\n",
        "                          patience=10,\n",
        "                          verbose=1,\n",
        "                          mode = 'max')"
      ]
    },
    {
      "cell_type": "code",
      "execution_count": null,
      "metadata": {
        "id": "2uQVbp9Z6uGh"
      },
      "outputs": [],
      "source": [
        "inceptionv3 = InceptionV3(weights='imagenet', include_top=False, input_shape=(299, 299, 3))\n",
        "\n",
        "model = Sequential()\n",
        "model.add(inceptionv3)\n",
        "model.add(GlobalAveragePooling2D())\n",
        "model.add(Dense(1024, activation='relu'))\n",
        "model.add(Dropout(0.25))\n",
        "model.add(Dense(train_generator.num_classes, activation='softmax'))\n"
      ]
    },
    {
      "cell_type": "code",
      "execution_count": null,
      "metadata": {
        "id": "iqYY70NaOJvD",
        "colab": {
          "base_uri": "https://localhost:8080/"
        },
        "outputId": "a61c2d2e-579f-4619-b00b-576bf1590e81"
      },
      "outputs": [
        {
          "output_type": "stream",
          "name": "stdout",
          "text": [
            "Model: \"sequential_1\"\n",
            "_________________________________________________________________\n",
            " Layer (type)                Output Shape              Param #   \n",
            "=================================================================\n",
            " inception_v3 (Functional)   (None, 8, 8, 2048)        21802784  \n",
            "                                                                 \n",
            " global_average_pooling2d_1  (None, 2048)              0         \n",
            "  (GlobalAveragePooling2D)                                       \n",
            "                                                                 \n",
            " dense_1 (Dense)             (None, 1024)              2098176   \n",
            "                                                                 \n",
            " dropout (Dropout)           (None, 1024)              0         \n",
            "                                                                 \n",
            " dense_2 (Dense)             (None, 4)                 4100      \n",
            "                                                                 \n",
            "=================================================================\n",
            "Total params: 23905060 (91.19 MB)\n",
            "Trainable params: 23870628 (91.06 MB)\n",
            "Non-trainable params: 34432 (134.50 KB)\n",
            "_________________________________________________________________\n"
          ]
        }
      ],
      "source": [
        "model.summary()"
      ]
    },
    {
      "cell_type": "code",
      "execution_count": null,
      "metadata": {
        "id": "ZDsH8yuz6vKP"
      },
      "outputs": [],
      "source": [
        "model.compile(optimizer='Adam', loss='categorical_crossentropy', metrics=['accuracy'])\n"
      ]
    },
    {
      "cell_type": "code",
      "execution_count": null,
      "metadata": {
        "id": "OcyNPeLd6vaX",
        "colab": {
          "base_uri": "https://localhost:8080/"
        },
        "outputId": "a3ecde9e-04ec-437d-fde2-c66b57d92b48"
      },
      "outputs": [
        {
          "output_type": "stream",
          "name": "stdout",
          "text": [
            "Epoch 1/20\n",
            "75/75 [==============================] - ETA: 0s - loss: 0.6625 - accuracy: 0.7867\n",
            "Epoch 1: val_accuracy improved from -inf to 0.66667, saving model to /content/drive/MyDrive/muhendislik-tasarimi/GoogleNet/inceptionv3_model_enyenisi.h5\n"
          ]
        },
        {
          "output_type": "stream",
          "name": "stderr",
          "text": [
            "/usr/local/lib/python3.10/dist-packages/keras/src/engine/training.py:3103: UserWarning: You are saving your model as an HDF5 file via `model.save()`. This file format is considered legacy. We recommend using instead the native Keras format, e.g. `model.save('my_model.keras')`.\n",
            "  saving_api.save_model(\n"
          ]
        },
        {
          "output_type": "stream",
          "name": "stdout",
          "text": [
            "\b\b\b\b\b\b\b\b\b\b\b\b\b\b\b\b\b\b\b\b\b\b\b\b\b\b\b\b\b\b\b\b\b\b\b\b\b\b\b\b\b\b\b\b\b\b\b\b\b\b\b\b\b\b\b\b\b\b\b\b\b\b\b\b\b\b\b\b\b\b\b\b\b\b\b\b\b\b\b\b\b\b\r75/75 [==============================] - 79s 482ms/step - loss: 0.6625 - accuracy: 0.7867 - val_loss: 3.4867 - val_accuracy: 0.6667\n",
            "Epoch 2/20\n",
            "75/75 [==============================] - ETA: 0s - loss: 0.4568 - accuracy: 0.8447\n",
            "Epoch 2: val_accuracy did not improve from 0.66667\n",
            "75/75 [==============================] - 21s 275ms/step - loss: 0.4568 - accuracy: 0.8447 - val_loss: 130.3251 - val_accuracy: 0.3333\n",
            "Epoch 3/20\n",
            "75/75 [==============================] - ETA: 0s - loss: 0.3585 - accuracy: 0.8673\n",
            "Epoch 3: val_accuracy improved from 0.66667 to 0.68056, saving model to /content/drive/MyDrive/muhendislik-tasarimi/GoogleNet/inceptionv3_model_enyenisi.h5\n",
            "75/75 [==============================] - 28s 378ms/step - loss: 0.3585 - accuracy: 0.8673 - val_loss: 27.8552 - val_accuracy: 0.6806\n",
            "Epoch 4/20\n",
            "75/75 [==============================] - ETA: 0s - loss: 0.2791 - accuracy: 0.9110\n",
            "Epoch 4: val_accuracy did not improve from 0.68056\n",
            "75/75 [==============================] - 21s 279ms/step - loss: 0.2791 - accuracy: 0.9110 - val_loss: 30.2951 - val_accuracy: 0.3264\n",
            "Epoch 5/20\n",
            "75/75 [==============================] - ETA: 0s - loss: 0.3368 - accuracy: 0.8900\n",
            "Epoch 5: val_accuracy did not improve from 0.68056\n",
            "75/75 [==============================] - 21s 274ms/step - loss: 0.3368 - accuracy: 0.8900 - val_loss: 1.2565 - val_accuracy: 0.6111\n",
            "Epoch 6/20\n",
            "75/75 [==============================] - ETA: 0s - loss: 0.2168 - accuracy: 0.9320\n",
            "Epoch 6: val_accuracy did not improve from 0.68056\n",
            "75/75 [==============================] - 20s 270ms/step - loss: 0.2168 - accuracy: 0.9320 - val_loss: 9.2621 - val_accuracy: 0.4444\n",
            "Epoch 7/20\n",
            "75/75 [==============================] - ETA: 0s - loss: 0.2151 - accuracy: 0.9353\n",
            "Epoch 7: val_accuracy improved from 0.68056 to 0.84722, saving model to /content/drive/MyDrive/muhendislik-tasarimi/GoogleNet/inceptionv3_model_enyenisi.h5\n",
            "75/75 [==============================] - 30s 395ms/step - loss: 0.2151 - accuracy: 0.9353 - val_loss: 0.8234 - val_accuracy: 0.8472\n",
            "Epoch 8/20\n",
            "75/75 [==============================] - ETA: 0s - loss: 0.1667 - accuracy: 0.9488\n",
            "Epoch 8: val_accuracy did not improve from 0.84722\n",
            "75/75 [==============================] - 20s 270ms/step - loss: 0.1667 - accuracy: 0.9488 - val_loss: 2.2633 - val_accuracy: 0.6597\n",
            "Epoch 9/20\n",
            "75/75 [==============================] - ETA: 0s - loss: 0.2578 - accuracy: 0.9169\n",
            "Epoch 9: val_accuracy did not improve from 0.84722\n",
            "75/75 [==============================] - 21s 276ms/step - loss: 0.2578 - accuracy: 0.9169 - val_loss: 1.6730 - val_accuracy: 0.6250\n",
            "Epoch 10/20\n",
            "75/75 [==============================] - ETA: 0s - loss: 0.1226 - accuracy: 0.9614\n",
            "Epoch 10: val_accuracy did not improve from 0.84722\n",
            "75/75 [==============================] - 20s 268ms/step - loss: 0.1226 - accuracy: 0.9614 - val_loss: 1.2710 - val_accuracy: 0.6806\n",
            "Epoch 11/20\n",
            "75/75 [==============================] - ETA: 0s - loss: 0.1193 - accuracy: 0.9631\n",
            "Epoch 11: val_accuracy improved from 0.84722 to 0.93750, saving model to /content/drive/MyDrive/muhendislik-tasarimi/GoogleNet/inceptionv3_model_enyenisi.h5\n",
            "75/75 [==============================] - 29s 391ms/step - loss: 0.1193 - accuracy: 0.9631 - val_loss: 0.2075 - val_accuracy: 0.9375\n",
            "Epoch 12/20\n",
            "75/75 [==============================] - ETA: 0s - loss: 0.0602 - accuracy: 0.9815\n",
            "Epoch 12: val_accuracy did not improve from 0.93750\n",
            "75/75 [==============================] - 22s 293ms/step - loss: 0.0602 - accuracy: 0.9815 - val_loss: 0.3349 - val_accuracy: 0.9028\n",
            "Epoch 13/20\n",
            "75/75 [==============================] - ETA: 0s - loss: 0.0725 - accuracy: 0.9773\n",
            "Epoch 13: val_accuracy did not improve from 0.93750\n",
            "75/75 [==============================] - 20s 269ms/step - loss: 0.0725 - accuracy: 0.9773 - val_loss: 0.3557 - val_accuracy: 0.9167\n",
            "Epoch 14/20\n",
            "75/75 [==============================] - ETA: 0s - loss: 0.1123 - accuracy: 0.9614\n",
            "Epoch 14: val_accuracy did not improve from 0.93750\n",
            "75/75 [==============================] - 21s 278ms/step - loss: 0.1123 - accuracy: 0.9614 - val_loss: 0.3090 - val_accuracy: 0.9306\n",
            "Epoch 15/20\n",
            "75/75 [==============================] - ETA: 0s - loss: 0.0797 - accuracy: 0.9706\n",
            "Epoch 15: val_accuracy did not improve from 0.93750\n",
            "75/75 [==============================] - 22s 292ms/step - loss: 0.0797 - accuracy: 0.9706 - val_loss: 0.2753 - val_accuracy: 0.9375\n",
            "Epoch 16/20\n",
            "75/75 [==============================] - ETA: 0s - loss: 0.0590 - accuracy: 0.9840\n",
            "Epoch 16: val_accuracy did not improve from 0.93750\n",
            "75/75 [==============================] - 22s 293ms/step - loss: 0.0590 - accuracy: 0.9840 - val_loss: 1.3320 - val_accuracy: 0.7569\n",
            "Epoch 17/20\n",
            "75/75 [==============================] - ETA: 0s - loss: 0.1444 - accuracy: 0.9538\n",
            "Epoch 17: val_accuracy did not improve from 0.93750\n",
            "75/75 [==============================] - 24s 313ms/step - loss: 0.1444 - accuracy: 0.9538 - val_loss: 0.3788 - val_accuracy: 0.8750\n",
            "Epoch 18/20\n",
            "75/75 [==============================] - ETA: 0s - loss: 0.0678 - accuracy: 0.9782\n",
            "Epoch 18: val_accuracy did not improve from 0.93750\n",
            "75/75 [==============================] - 21s 275ms/step - loss: 0.0678 - accuracy: 0.9782 - val_loss: 0.3896 - val_accuracy: 0.9306\n",
            "Epoch 19/20\n",
            "75/75 [==============================] - ETA: 0s - loss: 0.1098 - accuracy: 0.9731\n",
            "Epoch 19: val_accuracy did not improve from 0.93750\n",
            "75/75 [==============================] - 23s 305ms/step - loss: 0.1098 - accuracy: 0.9731 - val_loss: 0.5445 - val_accuracy: 0.8542\n",
            "Epoch 20/20\n",
            "75/75 [==============================] - ETA: 0s - loss: 0.0729 - accuracy: 0.9748\n",
            "Epoch 20: val_accuracy improved from 0.93750 to 0.95139, saving model to /content/drive/MyDrive/muhendislik-tasarimi/GoogleNet/inceptionv3_model_enyenisi.h5\n",
            "75/75 [==============================] - 27s 353ms/step - loss: 0.0729 - accuracy: 0.9748 - val_loss: 0.2064 - val_accuracy: 0.9514\n"
          ]
        }
      ],
      "source": [
        "result = model.fit(\n",
        "    train_generator,\n",
        "    steps_per_epoch=train_generator.samples // train_generator.batch_size,\n",
        "    validation_data=val_generator,\n",
        "    validation_steps=val_generator.samples // val_generator.batch_size,\n",
        "    epochs=20,\n",
        "    callbacks = [earlystop, checkpoint]\n",
        ")\n"
      ]
    },
    {
      "cell_type": "code",
      "execution_count": null,
      "metadata": {
        "id": "_TyupzQK8rM5",
        "colab": {
          "base_uri": "https://localhost:8080/",
          "height": 472
        },
        "outputId": "bb2ba0b6-b2b8-4de5-f96d-7b20d3e1f681"
      },
      "outputs": [
        {
          "output_type": "display_data",
          "data": {
            "text/plain": [
              "<Figure size 640x480 with 1 Axes>"
            ],
            "image/png": "[encoded data removed]"
          },
          "metadata": {}
        }
      ],
      "source": [
        "import matplotlib.pyplot as plt\n",
        "train_loss = result.history['loss']\n",
        "train_accuracy = result.history['accuracy']\n",
        "\n",
        "# train loss ve train accuracy görselleştirilmesi\n",
        "epochs = range(1, len(train_loss) + 1)\n",
        "\n",
        "plt.plot(epochs, train_loss, 'b', label='Training loss')\n",
        "plt.plot(epochs, train_accuracy, 'r', label='Training accuracy')\n",
        "plt.title('Training Loss and Accuracy')\n",
        "plt.xlabel('Epochs')\n",
        "plt.ylabel('Loss / Accuracy')\n",
        "plt.legend()\n",
        "\n",
        "plt.show()"
      ]
    },
    {
      "cell_type": "code",
      "execution_count": null,
      "metadata": {
        "id": "r_HAlC5i8yqM",
        "colab": {
          "base_uri": "https://localhost:8080/"
        },
        "outputId": "e77cfbaa-09e7-4608-dbd3-6ae6701968c4"
      },
      "outputs": [
        {
          "output_type": "stream",
          "name": "stdout",
          "text": [
            "10/10 [==============================] - 5s 468ms/step - loss: 0.1328 - accuracy: 0.9545\n",
            "Test Loss: 0.1327933818101883\n",
            "Test Accuracy: 0.9545454382896423\n"
          ]
        }
      ],
      "source": [
        "test_loss, test_accuracy = model.evaluate(test_generator, steps=len(test_generator))\n",
        "print(f\"Test Loss: {test_loss}\")\n",
        "print(f\"Test Accuracy: {test_accuracy}\")\n",
        "\n"
      ]
    },
    {
      "cell_type": "code",
      "execution_count": null,
      "metadata": {
        "id": "OS5vAbWV827a"
      },
      "outputs": [],
      "source": [
        "#model ile tahmin (test verileriyle)\n",
        "predictions = model.predict(test_generator)\n",
        "\n",
        "# test verileri ve tahmin edilen değerler arasındaki karşılaştırma\n",
        "num_samples_to_visualize = 10\n",
        "test_labels = []  # Gerçek değerleri tutan boş liste\n",
        "predicted_labels = []  # Tahmin edilen değerleri tutan boş liste\n",
        "\n",
        "# Test verilerinden örnekleri al\n",
        "for i, (_, labels) in enumerate(test_generator):\n",
        "    test_labels.extend(labels.argmax(axis=1))  # Gerçek etiketleri al\n",
        "    predicted_labels.extend(predictions.argmax(axis=1))  # Tahmin edilen etiketleri al\n",
        "    if i == num_samples_to_visualize - 1:\n",
        "        break\n",
        "\n",
        "# Sonuçları görselleştir\n",
        "plt.figure(figsize=(12, 8))\n",
        "for i in range(num_samples_to_visualize):\n",
        "    plt.subplot(5, 2, i + 1)\n",
        "    plt.imshow(test_generator[i][0][0])  # Test resmini göster\n",
        "    plt.title(f'Real: {test_labels[i]}, Predicted: {predicted_labels[i]}')\n",
        "    plt.axis('off')\n",
        "\n",
        "plt.tight_layout()\n",
        "plt.show()\n"
      ]
    },
    {
      "cell_type": "code",
      "execution_count": null,
      "metadata": {
        "id": "JOYkCDXlZcVH"
      },
      "outputs": [],
      "source": []
    }
  ],
  "metadata": {
    "accelerator": "GPU",
    "colab": {
      "gpuType": "T4",
      "provenance": [],
      "include_colab_link": true
    },
    "kernelspec": {
      "display_name": "Python 3",
      "name": "python3"
    },
    "language_info": {
      "name": "python"
    }
  },
  "nbformat": 4,
  "nbformat_minor": 0
}