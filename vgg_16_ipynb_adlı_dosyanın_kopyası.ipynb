{
  "cells": [
    {
      "cell_type": "markdown",
      "metadata": {
        "id": "view-in-github",
        "colab_type": "text"
      },
      "source": [
        "<a href=\"https://colab.research.google.com/github/seymatttass/Plant_Detection/blob/main/vgg_16_ipynb_adl%C4%B1_dosyan%C4%B1n_kopyas%C4%B1.ipynb\" target=\"_parent\"><img src=\"https://colab.research.google.com/assets/colab-badge.svg\" alt=\"Open In Colab\"/></a>"
      ]
    },
    {
      "cell_type": "code",
      "execution_count": null,
      "metadata": {
        "colab": {
          "base_uri": "https://localhost:8080/"
        },
        "id": "Mk9s86ki2Oc4",
        "outputId": "4af2acb5-fa98-42d8-e77a-2c7ac0156098"
      },
      "outputs": [
        {
          "name": "stdout",
          "output_type": "stream",
          "text": [
            "Mounted at /content/drive\n"
          ]
        }
      ],
      "source": [
        "from google.colab import drive\n",
        "drive.mount('/content/drive')"
      ]
    },
    {
      "cell_type": "code",
      "execution_count": null,
      "metadata": {
        "id": "4ikqh-TmOL4m"
      },
      "outputs": [],
      "source": [
        "from keras.models import Sequential\n",
        "from keras.layers import Flatten, Dense, BatchNormalization, Dropout\n",
        "from keras.applications import VGG16\n",
        "import matplotlib.pyplot as plt\n",
        "import cv2\n",
        "import numpy as np\n",
        "from keras.callbacks import ModelCheckpoint, EarlyStopping\n",
        "from keras.preprocessing.image import ImageDataGenerator\n",
        "from keras.regularizers import l2"
      ]
    },
    {
      "cell_type": "code",
      "execution_count": null,
      "metadata": {
        "id": "I8ewykd4O3it"
      },
      "outputs": [],
      "source": [
        "train_path = '/content/drive/MyDrive/AYZEK-Kanarya/yeni_arttırılmış/train'\n",
        "test_path = '/content/drive/MyDrive/AYZEK-Kanarya/yeni_arttırılmış/test'\n",
        "val_path = '/content/drive/MyDrive/AYZEK-Kanarya/yeni_arttırılmış/val'"
      ]
    },
    {
      "cell_type": "code",
      "execution_count": null,
      "metadata": {
        "collapsed": true,
        "id": "CFKQKMxQRcgj"
      },
      "outputs": [],
      "source": [
        "train_data_gen = ImageDataGenerator(rescale=1/255) # Ölçeklendirme\n",
        "test_data_gen = ImageDataGenerator(rescale=1/255)\n",
        "val_data_gen = ImageDataGenerator(rescale=1/255)\n"
      ]
    },
    {
      "cell_type": "markdown",
      "metadata": {
        "id": "bf62UGdwvHHt"
      },
      "source": [
        "Görüntü veri işleme sürecinde, piksel değerleri genellikle 0 ile 255 arasında olur.\n",
        "Ancak, bu değerlerin bir modelin eğitilmesi için uygun hale getirilmesi gerekir.\n",
        "Bu nedenle, genellikle piksel değerlerini 0 ile 1 arasında olacak şekilde ölçeklendirilirler.\n",
        "Bunu yapmanın bir yolu, piksel değerlerini 255'e bölmektir.\n",
        "Yani, her piksel değeri 255'e bölünerek 0 ile 1 arasında bir değer elde edilir.\n",
        "Bu nedenle, **`rescale(1/255)`** yöntemi, görüntü verilerinin piksel değerlerini yeniden ölçeklendirerek 0 ile 1 arasında bir değere dönüştürür.\n",
        "Bu, modelin daha iyi öğrenme yapmasını sağlar, çünkü genellikle daha küçük sayılarla daha iyi performans elde edilir."
      ]
    },
    {
      "cell_type": "code",
      "execution_count": null,
      "metadata": {
        "colab": {
          "base_uri": "https://localhost:8080/"
        },
        "collapsed": true,
        "id": "VXarxBe9RUU8",
        "outputId": "ed0c10bc-3cdb-47e4-947d-3736552ede9d"
      },
      "outputs": [
        {
          "name": "stdout",
          "output_type": "stream",
          "text": [
            "Found 2292 images belonging to 4 classes.\n"
          ]
        }
      ],
      "source": [
        "train_generator = train_data_gen.flow_from_directory(\n",
        "        train_path,\n",
        "        target_size=(448, 448), # Görüntü boyutları\n",
        "        batch_size=16,\n",
        "        class_mode='categorical')  # Sınıf modu, çok sınıflı bir sınıflandırma olduğu için 'categorical'"
      ]
    },
    {
      "cell_type": "markdown",
      "metadata": {
        "id": "3VPudXvovXou"
      },
      "source": [
        "👆🏻👆🏻👆🏻\n",
        "Bir veri yükleyici (data loader) oluşturulur.\n",
        "Bu yükleyici, belirtilen dizindeki görüntüleri yükler, onları belirtilen boyuta yeniden boyutlandırır,\n",
        "belirtilen batch boyutunda gruplar halinde verir ve hedef sınıfları kategorik olarak kodlar.\n",
        "Bu yükleyici daha sonra model eğitimi için kullanılabilir."
      ]
    },
    {
      "cell_type": "code",
      "execution_count": null,
      "metadata": {
        "colab": {
          "base_uri": "https://localhost:8080/"
        },
        "collapsed": true,
        "id": "4R9ntNnhqHUE",
        "outputId": "96988c24-47bf-4d93-a242-cccaca19c262"
      },
      "outputs": [
        {
          "name": "stdout",
          "output_type": "stream",
          "text": [
            "Found 306 images belonging to 4 classes.\n"
          ]
        }
      ],
      "source": [
        "test_generator = test_data_gen.flow_from_directory(\n",
        "    test_path,\n",
        "    target_size=(448, 448),  # Görüntü boyutları\n",
        "    batch_size=16,\n",
        "    class_mode='categorical'  # Sınıf modu, çok sınıflı bir sınıflandırma olduğu için 'categorical'\n",
        ")"
      ]
    },
    {
      "cell_type": "code",
      "execution_count": null,
      "metadata": {
        "colab": {
          "base_uri": "https://localhost:8080/"
        },
        "id": "oyqoPDk81TNv",
        "outputId": "98199208-408a-42a5-df92-423ca0fa1ec2"
      },
      "outputs": [
        {
          "name": "stdout",
          "output_type": "stream",
          "text": [
            "Found 300 images belonging to 4 classes.\n"
          ]
        }
      ],
      "source": [
        "val_generator = val_data_gen.flow_from_directory(\n",
        "    val_path,\n",
        "    target_size=(448, 448),  # Görüntü boyutları\n",
        "    batch_size=16,\n",
        "    class_mode='categorical'  # Sınıf modu, çok sınıflı bir sınıflandırma olduğu için 'categorical'\n",
        ")"
      ]
    },
    {
      "cell_type": "code",
      "execution_count": null,
      "metadata": {
        "colab": {
          "base_uri": "https://localhost:8080/"
        },
        "collapsed": true,
        "id": "jgOky9kpqMXH",
        "outputId": "b557ed24-ae08-4a63-9516-d1644e145af0"
      },
      "outputs": [
        {
          "name": "stdout",
          "output_type": "stream",
          "text": [
            "Downloading data from https://storage.googleapis.com/tensorflow/keras-applications/vgg16/vgg16_weights_tf_dim_ordering_tf_kernels_notop.h5\n",
            "58889256/58889256 [==============================] - 0s 0us/step\n"
          ]
        }
      ],
      "source": [
        "vgg = VGG16(\n",
        "    input_shape=(448, 448, 3),\n",
        "    weights='imagenet',\n",
        "    include_top=False)"
      ]
    },
    {
      "cell_type": "markdown",
      "metadata": {
        "id": "1GKeJ1Iju9s0"
      },
      "source": [
        "**include_top=False** olduğunda VGG16 modeli, tamamen bağlı katmanlar (fully connected layer'lar) olmadan oluşturulur.\n",
        "Bu durumda, modelin sadece özellik çıkarma (feature extraction) kısmı oluşturulur.\n",
        "Bu, modelin özellik çıkarma amacıyla kullanılmasını sağlar. Yani, bu model, görüntülerin düşük, orta ve yüksek seviyeli özelliklerini çıkarmak için kullanılabilir,\n",
        "ancak sınıflandırma katmanları olmadığı için sınıflandırma yapamaz."
      ]
    },
    {
      "cell_type": "code",
      "execution_count": null,
      "metadata": {
        "collapsed": true,
        "id": "jbaOH1Fxqmla"
      },
      "outputs": [],
      "source": [
        "model = Sequential()\n",
        "model.add(vgg)\n",
        "model.add(BatchNormalization())\n",
        "model.add(Flatten())\n",
        "model.add(Dense(1024, activation='relu'))\n",
        "model.add(Dropout(0.2))\n",
        "model.add(Dense(1024, activation='relu'))\n",
        "model.add(Dropout(0.2))\n",
        "model.add(Dense(4 , activation='softmax'))"
      ]
    },
    {
      "cell_type": "markdown",
      "metadata": {
        "id": "1AVaZ9pwuzhh"
      },
      "source": [
        "**softmax aktivasyon fonksiyonu** genellikle çok sınıflı sınıflandırma problemleri için kullanılır.\n",
        "Bu fonksiyon, modelin çıktılarını olasılık dağılımına dönüştürerek, sınıf olasılıklarını hesaplamak için idealdir.\n",
        "Özellikle sınıflandırma problemlerinde, modelin çıkışı sınıf etiketlerine karşılık gelen olasılıklar kümesi olarak yorumlanabilir.\n",
        "softmax fonksiyonu, bu olasılıkların toplamının 1'e eşit olmasını sağlar, bu da her bir sınıf için bir olasılık dağılımı oluşturur."
      ]
    },
    {
      "cell_type": "markdown",
      "metadata": {
        "id": "1ow85GA1uRcD"
      },
      "source": [
        "**`BatchNormalization`** katmanı, normalleştirme işlemini gerçekleştirir. Her bir batch'teki (bir grup veri) özellik vektörlerinin ortalamasını sıfıra ve varyansını bir birime getirir. Bunu yaparak, her bir batch'in dağılımını daha istikrarlı hale getirir ve gradyanların daha tutarlı bir şekilde akmasını sağlar.\n",
        "\n",
        "Normalleştirme işlemi, aşağıdaki adımlarla gerçekleştirilir:\n",
        "\n",
        "- Ortalama Hesaplama: Her bir özellik (feature) boyunca batch içindeki özellik\n",
        "vektörlerinin ortalaması hesaplanır.\n",
        "\n",
        "- Varyans Hesaplama: Her bir özellik boyunca batch içindeki özellik vektörlerinin varyansı hesaplanır.\n",
        "\n",
        "- Normalleştirme: Özellik vektörleri, ortalama değerden çıkarılarak (ortalamadan çıkarılarak) merkezlenir ve ardından varyansla bölünerek ölçeklenir.\n",
        "\n",
        "- Ölçekleme ve Kaydırma: Normalleştirilmiş özellik vektörleri, bir ölçek (scale) ve bir kaydırma (shift) parametresi ile çarpılır ve eklenir. Bu parametreler, modelin öğrenilebilir parametreleridir ve her bir özellik kanalı için ayrı ayrı hesaplanır.\n",
        "\n",
        "Bu adımlar, her bir batch'teki verilerin ortalamasını ve varyansını standartlaştırarak eğitim sürecini daha hızlı ve daha istikrarlı hale getirir. Sonuç olarak, modelin daha hızlı öğrenmesine ve daha iyi sonuçlar elde etmesine yardımcı olur."
      ]
    },
    {
      "cell_type": "code",
      "execution_count": null,
      "metadata": {
        "colab": {
          "base_uri": "https://localhost:8080/"
        },
        "id": "MzD4PgxQtTws",
        "outputId": "e2350a21-d5b1-4240-a4b3-740be9140f28"
      },
      "outputs": [
        {
          "name": "stdout",
          "output_type": "stream",
          "text": [
            "Model: \"sequential\"\n",
            "_________________________________________________________________\n",
            " Layer (type)                Output Shape              Param #   \n",
            "=================================================================\n",
            " vgg16 (Functional)          (None, 14, 14, 512)       14714688  \n",
            "                                                                 \n",
            " batch_normalization (Batch  (None, 14, 14, 512)       2048      \n",
            " Normalization)                                                  \n",
            "                                                                 \n",
            " flatten (Flatten)           (None, 100352)            0         \n",
            "                                                                 \n",
            " dense (Dense)               (None, 1024)              102761472 \n",
            "                                                                 \n",
            " dropout (Dropout)           (None, 1024)              0         \n",
            "                                                                 \n",
            " dense_1 (Dense)             (None, 1024)              1049600   \n",
            "                                                                 \n",
            " dropout_1 (Dropout)         (None, 1024)              0         \n",
            "                                                                 \n",
            " dense_2 (Dense)             (None, 4)                 4100      \n",
            "                                                                 \n",
            "=================================================================\n",
            "Total params: 118531908 (452.16 MB)\n",
            "Trainable params: 118530884 (452.16 MB)\n",
            "Non-trainable params: 1024 (4.00 KB)\n",
            "_________________________________________________________________\n"
          ]
        }
      ],
      "source": [
        "model.summary()"
      ]
    },
    {
      "cell_type": "code",
      "execution_count": null,
      "metadata": {
        "id": "LvYTtIqYtza2"
      },
      "outputs": [],
      "source": [
        "model.compile(optimizer='Adadelta', loss='categorical_crossentropy', metrics=['accuracy'])"
      ]
    },
    {
      "cell_type": "markdown",
      "metadata": {
        "id": "QyFQXdNyweut"
      },
      "source": [
        "Sınıflandırma problemleri için en yaygın olarak kullanılan optimizer genellikle **Adam optimizeridir.** Adam, adaptif öğrenme oranı ve momentumun bir kombinasyonunu kullanarak gradyan inişini gerçekleştirir. Bu, birçok sınıflandırma probleminde etkili sonuçlar veren güçlü bir optimizerdır.\n",
        "\n",
        "Adam optimizerinin birkaç avantajı vardır:\n",
        "\n",
        "- Hızlı ve Etkili: Adam, genellikle diğer optimizerlere kıyasla daha hızlı ve daha etkili bir şekilde eğitim sağlar.\n",
        "\n",
        "- Adaptif Öğrenme Oranı: Adam, her parametre için ayrı ayrı adaptif bir öğrenme oranı sağlar. Bu, modelin hızlı ve dengeli bir şekilde eğitilmesine yardımcı olur.\n",
        "\n",
        "- Momentumun Kullanımı: Adam, gradyanın momentumunu da dikkate alır, bu da eğitim sürecinin daha istikrarlı olmasına ve yerel minimumlara daha az sıkışmasına yardımcı olur.\n",
        "\n",
        "- Parametre Düzenleme: Adam, genellikle overfitting'i azaltmaya yardımcı olan parametre düzenleme (regularization) özelliğine sahiptir.\n",
        "\n",
        "\n",
        "**`1) Gradyan:`** Bir fonksiyonun en büyük artışını gösteren vektör. Türevi alınan bir fonksiyonun gradyanı, fonksiyonun artış hızının en büyük olduğu yönü gösterir. Eğitim sürecinde gradyan, modelin kaybını (loss) azaltmak için parametrelerin (ağırlıkların) güncellenmesinde kullanılır. Gradyanın tersine çevrilmiş yönü, kaybı azaltan bir yöndür, bu nedenle gradyan inişi, modelin kaybını azaltmak için gradyanın negatif yönünde adımlar atar.\n",
        "\n",
        "**`2) Momentum:`** Momentum, gradyan inişinde bir tür ivme sağlayan bir parametredir. Momentum, mevcut gradyan değerinin bir kısmını (genellikle 0 ile 1 arasında bir değer) korur ve yeni gradyan değerini bu ivme ile birleştirir. Bu, gradyan inişini daha hızlı ve daha istikrarlı hale getirir, özellikle yerel minimumlardan kaçınma ve düz çanaklarda hızlanma gibi durumlarda faydalıdır.\n",
        "\n"
      ]
    },
    {
      "cell_type": "code",
      "execution_count": null,
      "metadata": {
        "id": "D5LpkQGPxII5"
      },
      "outputs": [],
      "source": [
        "checkpoint = ModelCheckpoint(\n",
        "    f'/content/drive/MyDrive/AYZEK-Kanarya/models/vgg-16/vgg16_model_yeni9.h5',\n",
        "     monitor='val_accuracy',\n",
        "     verbose=1,\n",
        "     save_best_only=True,\n",
        "     mode = 'max'\n",
        ")"
      ]
    },
    {
      "cell_type": "markdown",
      "metadata": {
        "id": "H3fX70NrBXYv"
      },
      "source": [
        "**monitor:** Modelin performansını izlemek için kullanılan metriği belirtir. Örneğin, 'val_accuracy' olarak belirtilirse, doğrulama veri seti üzerinde doğruluk (accuracy) metriği izlenir ve bu metriğin en iyi olduğu durumlarda model kaydedilir.\n",
        "\n",
        "**verbose:** Kullanıcıya ilerleme durumu hakkında bilgi verir. Değer 0 ise sessiz mod, 1 ise ilerleme çubuğu, 2 ise her bir epoch için bir satır çıktı sağlar."
      ]
    },
    {
      "cell_type": "code",
      "execution_count": null,
      "metadata": {
        "id": "VsJxrOXPC46y"
      },
      "outputs": [],
      "source": [
        "earlystop = EarlyStopping(monitor='val_accuracy',\n",
        "                          patience=10,\n",
        "                          verbose=1,\n",
        "                          mode = 'max')"
      ]
    },
    {
      "cell_type": "markdown",
      "metadata": {
        "id": "1zg1s8M8DM6b"
      },
      "source": [
        "**EarlyStopping**, eğitim sırasında modelin aşırı uyum (overfitting) yapmasını önlemek için kullanılan bir Keras geri çağırısıdır. Eğitim sürecinde modelin performansını izler ve belirli bir kriteri karşıladığında (örneğin, doğrulama setindeki doğruluk belirli bir süre boyunca artmazsa veya kayıp belirli bir süre boyunca azalmazsa), eğitimi otomatik olarak durdurur."
      ]
    },
    {
      "cell_type": "code",
      "execution_count": null,
      "metadata": {
        "id": "HQezTC9zACVL"
      },
      "outputs": [],
      "source": [
        "from keras.callbacks import ReduceLROnPlateau\n",
        "\n",
        "reduce_lr = ReduceLROnPlateau(monitor='val_loss', factor=0.2, patience=3, min_lr=0.001)"
      ]
    },
    {
      "cell_type": "code",
      "execution_count": null,
      "metadata": {
        "colab": {
          "background_save": true,
          "base_uri": "https://localhost:8080/"
        },
        "id": "qeuWt7IuDjuD",
        "outputId": "3de91a81-3b8f-43fd-b3b8-60c83fa9dd7d"
      },
      "outputs": [
        {
          "name": "stdout",
          "output_type": "stream",
          "text": [
            "Epoch 1/25\n",
            "143/143 [==============================] - ETA: 0s - loss: 1.1161 - accuracy: 0.5330\n",
            "Epoch 1: val_accuracy improved from -inf to 0.61806, saving model to /content/drive/MyDrive/AYZEK-Kanarya/models/vgg-16/vgg16_model_yeni9.h5\n"
          ]
        },
        {
          "name": "stderr",
          "output_type": "stream",
          "text": [
            "/usr/local/lib/python3.10/dist-packages/keras/src/engine/training.py:3103: UserWarning: You are saving your model as an HDF5 file via `model.save()`. This file format is considered legacy. We recommend using instead the native Keras format, e.g. `model.save('my_model.keras')`.\n",
            "  saving_api.save_model(\n"
          ]
        },
        {
          "name": "stdout",
          "output_type": "stream",
          "text": [
            "143/143 [==============================] - 1036s 7s/step - loss: 1.1161 - accuracy: 0.5330 - val_loss: 1.0742 - val_accuracy: 0.6181\n",
            "Epoch 2/25\n",
            "143/143 [==============================] - ETA: 0s - loss: 0.6257 - accuracy: 0.7667\n",
            "Epoch 2: val_accuracy improved from 0.61806 to 0.78125, saving model to /content/drive/MyDrive/AYZEK-Kanarya/models/vgg-16/vgg16_model_yeni9.h5\n",
            "143/143 [==============================] - 142s 990ms/step - loss: 0.6257 - accuracy: 0.7667 - val_loss: 0.7662 - val_accuracy: 0.7812\n",
            "Epoch 3/25\n",
            "143/143 [==============================] - ETA: 0s - loss: 0.4592 - accuracy: 0.8304\n",
            "Epoch 3: val_accuracy improved from 0.78125 to 0.80208, saving model to /content/drive/MyDrive/AYZEK-Kanarya/models/vgg-16/vgg16_model_yeni9.h5\n",
            "143/143 [==============================] - 137s 953ms/step - loss: 0.4592 - accuracy: 0.8304 - val_loss: 0.5740 - val_accuracy: 0.8021\n",
            "Epoch 4/25\n",
            "143/143 [==============================] - ETA: 0s - loss: 0.3507 - accuracy: 0.8915\n",
            "Epoch 4: val_accuracy improved from 0.80208 to 0.81597, saving model to /content/drive/MyDrive/AYZEK-Kanarya/models/vgg-16/vgg16_model_yeni9.h5\n",
            "143/143 [==============================] - 141s 982ms/step - loss: 0.3507 - accuracy: 0.8915 - val_loss: 0.4893 - val_accuracy: 0.8160\n",
            "Epoch 5/25\n",
            "143/143 [==============================] - ETA: 0s - loss: 0.2827 - accuracy: 0.9060\n",
            "Epoch 5: val_accuracy did not improve from 0.81597\n",
            "143/143 [==============================] - 132s 924ms/step - loss: 0.2827 - accuracy: 0.9060 - val_loss: 0.4660 - val_accuracy: 0.7986\n",
            "Epoch 6/25\n",
            "143/143 [==============================] - ETA: 0s - loss: 0.2185 - accuracy: 0.9332\n",
            "Epoch 6: val_accuracy improved from 0.81597 to 0.81944, saving model to /content/drive/MyDrive/AYZEK-Kanarya/models/vgg-16/vgg16_model_yeni9.h5\n",
            "143/143 [==============================] - 138s 964ms/step - loss: 0.2185 - accuracy: 0.9332 - val_loss: 0.4178 - val_accuracy: 0.8194\n",
            "Epoch 7/25\n",
            "143/143 [==============================] - ETA: 0s - loss: 0.1797 - accuracy: 0.9490\n",
            "Epoch 7: val_accuracy improved from 0.81944 to 0.82986, saving model to /content/drive/MyDrive/AYZEK-Kanarya/models/vgg-16/vgg16_model_yeni9.h5\n",
            "143/143 [==============================] - 137s 957ms/step - loss: 0.1797 - accuracy: 0.9490 - val_loss: 0.4016 - val_accuracy: 0.8299\n",
            "Epoch 8/25\n",
            "143/143 [==============================] - ETA: 0s - loss: 0.1541 - accuracy: 0.9627\n",
            "Epoch 8: val_accuracy improved from 0.82986 to 0.83681, saving model to /content/drive/MyDrive/AYZEK-Kanarya/models/vgg-16/vgg16_model_yeni9.h5\n",
            "143/143 [==============================] - 135s 943ms/step - loss: 0.1541 - accuracy: 0.9627 - val_loss: 0.3757 - val_accuracy: 0.8368\n",
            "Epoch 9/25\n",
            "143/143 [==============================] - ETA: 0s - loss: 0.1214 - accuracy: 0.9679\n",
            "Epoch 9: val_accuracy did not improve from 0.83681\n",
            "143/143 [==============================] - 128s 890ms/step - loss: 0.1214 - accuracy: 0.9679 - val_loss: 0.3733 - val_accuracy: 0.8368\n",
            "Epoch 10/25\n",
            "143/143 [==============================] - ETA: 0s - loss: 0.1075 - accuracy: 0.9745\n",
            "Epoch 10: val_accuracy did not improve from 0.83681\n",
            "143/143 [==============================] - 127s 889ms/step - loss: 0.1075 - accuracy: 0.9745 - val_loss: 0.3627 - val_accuracy: 0.8368\n",
            "Epoch 11/25\n",
            "143/143 [==============================] - ETA: 0s - loss: 0.0896 - accuracy: 0.9793\n",
            "Epoch 11: val_accuracy improved from 0.83681 to 0.85417, saving model to /content/drive/MyDrive/AYZEK-Kanarya/models/vgg-16/vgg16_model_yeni9.h5\n",
            "143/143 [==============================] - 139s 973ms/step - loss: 0.0896 - accuracy: 0.9793 - val_loss: 0.3343 - val_accuracy: 0.8542\n",
            "Epoch 12/25\n",
            "143/143 [==============================] - ETA: 0s - loss: 0.0760 - accuracy: 0.9843\n",
            "Epoch 12: val_accuracy did not improve from 0.85417\n",
            "143/143 [==============================] - 127s 890ms/step - loss: 0.0760 - accuracy: 0.9843 - val_loss: 0.3485 - val_accuracy: 0.8438\n",
            "Epoch 13/25\n",
            "143/143 [==============================] - ETA: 0s - loss: 0.0659 - accuracy: 0.9868\n",
            "Epoch 13: val_accuracy improved from 0.85417 to 0.86806, saving model to /content/drive/MyDrive/AYZEK-Kanarya/models/vgg-16/vgg16_model_yeni9.h5\n",
            "143/143 [==============================] - 138s 966ms/step - loss: 0.0659 - accuracy: 0.9868 - val_loss: 0.3126 - val_accuracy: 0.8681\n",
            "Epoch 14/25\n",
            "143/143 [==============================] - ETA: 0s - loss: 0.0563 - accuracy: 0.9886\n",
            "Epoch 14: val_accuracy did not improve from 0.86806\n",
            "143/143 [==============================] - 127s 890ms/step - loss: 0.0563 - accuracy: 0.9886 - val_loss: 0.3063 - val_accuracy: 0.8681\n",
            "Epoch 15/25\n",
            "143/143 [==============================] - ETA: 0s - loss: 0.0433 - accuracy: 0.9938\n",
            "Epoch 15: val_accuracy did not improve from 0.86806\n",
            "143/143 [==============================] - 128s 894ms/step - loss: 0.0433 - accuracy: 0.9938 - val_loss: 0.2891 - val_accuracy: 0.8611\n",
            "Epoch 16/25\n",
            "143/143 [==============================] - ETA: 0s - loss: 0.0419 - accuracy: 0.9925\n",
            "Epoch 16: val_accuracy improved from 0.86806 to 0.87847, saving model to /content/drive/MyDrive/AYZEK-Kanarya/models/vgg-16/vgg16_model_yeni9.h5\n",
            "143/143 [==============================] - 135s 945ms/step - loss: 0.0419 - accuracy: 0.9925 - val_loss: 0.2959 - val_accuracy: 0.8785\n",
            "Epoch 17/25\n",
            "143/143 [==============================] - ETA: 0s - loss: 0.0342 - accuracy: 0.9934\n",
            "Epoch 17: val_accuracy did not improve from 0.87847\n",
            "143/143 [==============================] - 128s 894ms/step - loss: 0.0342 - accuracy: 0.9934 - val_loss: 0.3052 - val_accuracy: 0.8542\n",
            "Epoch 18/25\n",
            "143/143 [==============================] - ETA: 0s - loss: 0.0364 - accuracy: 0.9947\n",
            "Epoch 18: val_accuracy did not improve from 0.87847\n",
            "143/143 [==============================] - 127s 884ms/step - loss: 0.0364 - accuracy: 0.9947 - val_loss: 0.3210 - val_accuracy: 0.8507\n",
            "Epoch 19/25\n",
            "143/143 [==============================] - ETA: 0s - loss: 0.0314 - accuracy: 0.9952\n",
            "Epoch 19: val_accuracy improved from 0.87847 to 0.88542, saving model to /content/drive/MyDrive/AYZEK-Kanarya/models/vgg-16/vgg16_model_yeni9.h5\n",
            "143/143 [==============================] - 144s 1s/step - loss: 0.0314 - accuracy: 0.9952 - val_loss: 0.2688 - val_accuracy: 0.8854\n",
            "Epoch 20/25\n",
            "143/143 [==============================] - ETA: 0s - loss: 0.0278 - accuracy: 0.9960\n",
            "Epoch 20: val_accuracy did not improve from 0.88542\n",
            "143/143 [==============================] - 127s 887ms/step - loss: 0.0278 - accuracy: 0.9960 - val_loss: 0.3163 - val_accuracy: 0.8507\n",
            "Epoch 21/25\n",
            "143/143 [==============================] - ETA: 0s - loss: 0.0260 - accuracy: 0.9969\n",
            "Epoch 21: val_accuracy did not improve from 0.88542\n",
            "143/143 [==============================] - 128s 896ms/step - loss: 0.0260 - accuracy: 0.9969 - val_loss: 0.2863 - val_accuracy: 0.8715\n",
            "Epoch 22/25\n",
            "143/143 [==============================] - ETA: 0s - loss: 0.0222 - accuracy: 0.9965\n",
            "Epoch 22: val_accuracy did not improve from 0.88542\n",
            "143/143 [==============================] - 127s 884ms/step - loss: 0.0222 - accuracy: 0.9965 - val_loss: 0.2884 - val_accuracy: 0.8750\n",
            "Epoch 23/25\n",
            "143/143 [==============================] - ETA: 0s - loss: 0.0223 - accuracy: 0.9960\n",
            "Epoch 23: val_accuracy did not improve from 0.88542\n",
            "143/143 [==============================] - 127s 888ms/step - loss: 0.0223 - accuracy: 0.9960 - val_loss: 0.2765 - val_accuracy: 0.8715\n",
            "Epoch 24/25\n",
            "143/143 [==============================] - ETA: 0s - loss: 0.0201 - accuracy: 0.9947\n",
            "Epoch 24: val_accuracy did not improve from 0.88542\n",
            "143/143 [==============================] - 127s 890ms/step - loss: 0.0201 - accuracy: 0.9947 - val_loss: 0.2931 - val_accuracy: 0.8681\n",
            "Epoch 25/25\n",
            "143/143 [==============================] - ETA: 0s - loss: 0.0186 - accuracy: 0.9960\n",
            "Epoch 25: val_accuracy did not improve from 0.88542\n",
            "143/143 [==============================] - 128s 891ms/step - loss: 0.0186 - accuracy: 0.9960 - val_loss: 0.2794 - val_accuracy: 0.8750\n"
          ]
        }
      ],
      "source": [
        "result = model.fit(\n",
        "    train_generator,\n",
        "    steps_per_epoch=train_generator.samples // train_generator.batch_size,\n",
        "    validation_data=val_generator,\n",
        "    validation_steps=val_generator.samples // val_generator.batch_size,\n",
        "    epochs=25,\n",
        "    callbacks = [earlystop, checkpoint])"
      ]
    },
    {
      "cell_type": "code",
      "execution_count": null,
      "metadata": {
        "colab": {
          "background_save": true
        },
        "id": "fc85HS0ZxgGL",
        "outputId": "3289e544-d43c-4773-d197-5f22aea61ec4"
      },
      "outputs": [
        {
          "data": {
            "image/png": "[encoded data removed]",
            "text/plain": [
              "<Figure size 640x480 with 1 Axes>"
            ]
          },
          "metadata": {},
          "output_type": "display_data"
        }
      ],
      "source": [
        "train_loss = result.history['loss']\n",
        "train_accuracy = result.history['accuracy']\n",
        "\n",
        "epochs = range(1, len(train_loss) + 1)\n",
        "\n",
        "plt.plot(epochs, train_loss, 'b', label='Training loss')\n",
        "plt.plot(epochs, train_accuracy, 'r', label='Training accuracy')\n",
        "plt.title('Training Loss and Accuracy')\n",
        "plt.xlabel('Epochs')\n",
        "plt.ylabel('Loss / Accuracy')\n",
        "plt.legend()\n",
        "\n",
        "plt.show()"
      ]
    },
    {
      "cell_type": "code",
      "execution_count": null,
      "metadata": {
        "id": "9k04IO59GGG0"
      },
      "outputs": [],
      "source": [
        "test_loss, test_accuracy = model.evaluate(test_generator, steps=len(test_generator))\n",
        "print(f\"Test Loss: {test_loss}\")\n",
        "print(f\"Test Accuracy: {test_accuracy}\")"
      ]
    },
    {
      "cell_type": "markdown",
      "metadata": {
        "id": "I5PFI6bEZ97f"
      },
      "source": [
        "vgg_model_yeni7 --> 94"
      ]
    },
    {
      "cell_type": "markdown",
      "metadata": {
        "id": "xG0u9PfvaTjE"
      },
      "source": [
        "batchsize 16'dan 32'ye çıkardım\n"
      ]
    },
    {
      "cell_type": "code",
      "execution_count": null,
      "metadata": {
        "id": "Bw6fEaVzpAcu"
      },
      "outputs": [],
      "source": [
        "\"\"\"# model ile tahmin etme\n",
        "predictions = model.predict(test_generator)\n",
        "\n",
        "# test verileri ve tahmin edilen değerler arasındaki karşılaştırma\n",
        "num_samples_to_visualize = 20\n",
        "test_labels = []  # Gerçek değerleri tutan boş liste\n",
        "predicted_labels = []  # Tahmin edilen değerleri tutan boş liste\n",
        "\n",
        "# test datalarından örnekler\n",
        "for i, (_, labels) in enumerate(test_generator):\n",
        "    test_labels.extend(labels.argmax(axis=1))  # Gerçek etiketleri al\n",
        "    predicted_labels.extend(predictions.argmax(axis=1))  # Tahmin edilen etiketleri al\n",
        "    if i == num_samples_to_visualize - 1:\n",
        "        break\n",
        "\n",
        "# Sonuçları görselleştir\n",
        "plt.figure(figsize=(12, 8))\n",
        "for i in range(num_samples_to_visualize):\n",
        "    plt.subplot(5, 4, i + 1)\n",
        "    plt.imshow(test_generator[i][0][0])  # Test resmini göster\n",
        "    plt.title(f'Real: {test_labels[i]}, Predicted: {predicted_labels[i]}')\n",
        "    plt.axis('off')\n",
        "\n",
        "plt.tight_layout()\n",
        "plt.show()\n",
        "\"\"\""
      ]
    },
    {
      "cell_type": "code",
      "execution_count": null,
      "metadata": {
        "id": "9tc5b-230WsN"
      },
      "outputs": [],
      "source": []
    }
  ],
  "metadata": {
    "accelerator": "GPU",
    "colab": {
      "gpuType": "T4",
      "provenance": [],
      "include_colab_link": true
    },
    "kernelspec": {
      "display_name": "Python 3",
      "name": "python3"
    },
    "language_info": {
      "name": "python"
    }
  },
  "nbformat": 4,
  "nbformat_minor": 0
}