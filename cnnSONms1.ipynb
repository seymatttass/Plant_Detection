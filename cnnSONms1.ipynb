{
  "nbformat": 4,
  "nbformat_minor": 0,
  "metadata": {
    "colab": {
      "provenance": [],
      "gpuType": "T4",
      "include_colab_link": true
    },
    "kernelspec": {
      "name": "python3",
      "display_name": "Python 3"
    },
    "language_info": {
      "name": "python"
    },
    "accelerator": "GPU"
  },
  "cells": [
    {
      "cell_type": "markdown",
      "metadata": {
        "id": "view-in-github",
        "colab_type": "text"
      },
      "source": [
        "<a href=\"https://colab.research.google.com/github/seymatttass/Plant_Detection/blob/main/cnnSONms1.ipynb\" target=\"_parent\"><img src=\"https://colab.research.google.com/assets/colab-badge.svg\" alt=\"Open In Colab\"/></a>"
      ]
    },
    {
      "cell_type": "code",
      "execution_count": null,
      "metadata": {
        "id": "8Za6MDrQffmU",
        "colab": {
          "base_uri": "https://localhost:8080/"
        },
        "outputId": "6e8aa432-73a8-4e20-c6c9-1db6386b152f"
      },
      "outputs": [
        {
          "output_type": "stream",
          "name": "stdout",
          "text": [
            "Mounted at /content/drive\n"
          ]
        }
      ],
      "source": [
        "from google.colab import drive\n",
        "drive.mount(\"/content/drive\")"
      ]
    },
    {
      "cell_type": "code",
      "source": [
        "from tensorflow.python.client import device_lib\n",
        "device_lib.list_local_devices()"
      ],
      "metadata": {
        "id": "JSydBem9gDeV",
        "colab": {
          "base_uri": "https://localhost:8080/"
        },
        "outputId": "4f8fb7dc-12a6-4ffd-acf0-d7948f93ab67"
      },
      "execution_count": null,
      "outputs": [
        {
          "output_type": "execute_result",
          "data": {
            "text/plain": [
              "[name: \"/device:CPU:0\"\n",
              " device_type: \"CPU\"\n",
              " memory_limit: 268435456\n",
              " locality {\n",
              " }\n",
              " incarnation: 219148673761595323\n",
              " xla_global_id: -1,\n",
              " name: \"/device:GPU:0\"\n",
              " device_type: \"GPU\"\n",
              " memory_limit: 14626652160\n",
              " locality {\n",
              "   bus_id: 1\n",
              "   links {\n",
              "   }\n",
              " }\n",
              " incarnation: 16387348655427971135\n",
              " physical_device_desc: \"device: 0, name: Tesla T4, pci bus id: 0000:00:04.0, compute capability: 7.5\"\n",
              " xla_global_id: 416903419]"
            ]
          },
          "metadata": {},
          "execution_count": 2
        }
      ]
    },
    {
      "cell_type": "code",
      "source": [
        "import os\n",
        "os.chdir(\"/content/drive/MyDrive/dataset1\")"
      ],
      "metadata": {
        "id": "u9lNsjOmgDgo"
      },
      "execution_count": null,
      "outputs": []
    },
    {
      "cell_type": "code",
      "source": [
        "# Kütüphaneleri içe aktarma\n",
        "from __future__ import print_function\n",
        "import keras\n",
        "import tensorflow as tf\n",
        "from keras.models import Sequential\n",
        "from keras.layers import Dense, Dropout, Flatten, Conv2D, MaxPooling2D\n",
        "from tensorflow.keras.utils import to_categorical\n",
        "from tensorflow.keras.optimizers import Adam\n",
        "from keras import backend as K\n",
        "import matplotlib.pyplot as plt\n",
        "from keras.preprocessing.image import ImageDataGenerator\n",
        "import os"
      ],
      "metadata": {
        "id": "azU2Y878gDim"
      },
      "execution_count": null,
      "outputs": []
    },
    {
      "cell_type": "code",
      "source": [
        "# Parametreler\n",
        "batch_size = 16  # Her bir işlemde kullanılacak örnek sayısı\n",
        "num_classes = 4  # Sınıf sayısı: sağlıklı, fungal, ölü, bakterili\n",
        "epochs = 25  # Eğitim döngüsü sayısı\n",
        "img_rows, img_cols = 224, 224  # Giriş görüntüsünün boyutları\n",
        "\n",
        "# Girdi boyutunu belirleme (kanal düzenine göre)\n",
        "if K.image_data_format() == 'channels_first':\n",
        "    input_shape = (3, img_rows, img_cols)  # Kanal ilk format\n",
        "else:\n",
        "    input_shape = (img_rows, img_cols, 3)  # Kanal son format\n",
        "\n",
        "# Veri dizinlerinin varlığını kontrol etme\n",
        "train_dir = \"/content/drive/MyDrive/SonDeriDeriDriveSon/train\"  # Eğitim veri dizini\n",
        "val_dir = \"/content/drive/MyDrive/SonDeriDeriDriveSon/val\"  # Doğrulama veri dizini\n",
        "test_dir = \"/content/drive/MyDrive/SonDeriDeriDriveSon/test\"  # Test veri dizini\n",
        "\n",
        "if not os.path.exists(train_dir):\n",
        "    print(f\"{train_dir} dizini bulunamadı.\")\n",
        "if not os.path.exists(val_dir):\n",
        "    print(f\"{val_dir} dizini bulunamadı.\")\n",
        "if not os.path.exists(test_dir):\n",
        "    print(f\"{test_dir} dizini bulunamadı.\")\n",
        "\n",
        "# Veri artırma ve normalleştirme\n",
        "train_datagen = ImageDataGenerator(\n",
        "    rescale=1./255,  # Tüm piksel değerlerini 0-1 aralığına yeniden ölçekleme\n",
        "    shear_range=0.2,  # Rastgele kesme işlemi\n",
        "    zoom_range=0.2,  # Rastgele yakınlaştırma\n",
        "    horizontal_flip=True)  # Yatay çevirme\n",
        "\n",
        "validation_datagen = ImageDataGenerator(rescale=1./255)  # Doğrulama verileri için sadece yeniden ölçekleme\n",
        "test_datagen = ImageDataGenerator(rescale=1./255)  # Test verileri için sadece yeniden ölçekleme\n",
        "\n",
        "# Eğitim veri yükleyicisi\n",
        "train_generator = train_datagen.flow_from_directory(\n",
        "    train_dir,  # Eğitim veri dizini\n",
        "    target_size=(img_rows, img_cols),  # Hedef görüntü boyutu\n",
        "    batch_size=batch_size,  # Batch boyutu\n",
        "    class_mode='categorical')  # Çok sınıflı sınıflandırma\n",
        "\n",
        "# Doğrulama veri yükleyicisi\n",
        "validation_generator = validation_datagen.flow_from_directory(\n",
        "    val_dir,  # Doğrulama veri dizini\n",
        "    target_size=(img_rows, img_cols),  # Hedef görüntü boyutu\n",
        "    batch_size=batch_size,  # Batch boyutu\n",
        "    class_mode='categorical')  # Çok sınıflı sınıflandırma\n",
        "\n",
        "# Test veri yükleyicisi\n",
        "test_generator = test_datagen.flow_from_directory(\n",
        "    test_dir,  # Test veri dizini\n",
        "    target_size=(img_rows, img_cols),  # Hedef görüntü boyutu\n",
        "    batch_size=batch_size,  # Batch boyutu\n",
        "    class_mode='categorical',\n",
        "    shuffle = False)  # Çok sınıflı sınıflandırma\n",
        "\n",
        "# Veri yükleyicilerinin şekillerini kontrol etme\n",
        "print(\"train_generator shape:\", train_generator[0][0].shape)  # Eğitim verisinin şekli\n",
        "print(\"train_generator labels shape:\", train_generator[0][1].shape)  # Eğitim verisi etiketlerinin şekli\n",
        "print(\"validation_generator shape:\", validation_generator[0][0].shape)  # Doğrulama verisinin şekli\n",
        "print(\"validation_generator labels shape:\", validation_generator[0][1].shape)  # Doğrulama verisi etiketlerinin şekli\n",
        "print(\"test_generator shape:\", test_generator[0][0].shape)  # Test verisinin şekli\n",
        "print(\"test_generator labels shape:\", test_generator[0][1].shape)  # Test verisi etiketlerinin şekli\n"
      ],
      "metadata": {
        "id": "9fhOiYi_gDkf",
        "colab": {
          "base_uri": "https://localhost:8080/"
        },
        "outputId": "6a7df57a-c629-421f-aed0-d9de8fb2c8ce"
      },
      "execution_count": null,
      "outputs": [
        {
          "output_type": "stream",
          "name": "stdout",
          "text": [
            "Found 2451 images belonging to 4 classes.\n",
            "Found 305 images belonging to 4 classes.\n",
            "Found 310 images belonging to 4 classes.\n",
            "train_generator shape: (16, 224, 224, 3)\n",
            "train_generator labels shape: (16, 4)\n",
            "validation_generator shape: (16, 224, 224, 3)\n",
            "validation_generator labels shape: (16, 4)\n",
            "test_generator shape: (16, 224, 224, 3)\n",
            "test_generator labels shape: (16, 4)\n"
          ]
        }
      ]
    },
    {
      "cell_type": "code",
      "source": [
        "\n",
        "# Modeli oluşturma\n",
        "model = Sequential()\n",
        "model.add(Conv2D(32, (3, 3), activation='relu', input_shape=input_shape))  # 32 filtreli 3x3 boyutunda bir evrişim katmanı ekleyin\n",
        "model.add(MaxPooling2D((2, 2)))  # 2x2 boyutunda bir maksimum havuzlama katmanı ekleyin\n",
        "model.add(Conv2D(64, (3, 3), activation='relu'))  # 64 filtreli 3x3 boyutunda bir evrişim katmanı ekleyin\n",
        "model.add(MaxPooling2D((2, 2)))  # 2x2 boyutunda bir maksimum havuzlama katmanı ekleyin\n",
        "model.add(Conv2D(128, (3, 3), activation='relu'))  # 128 filtreli 3x3 boyutunda bir evrişim katmanı ekleyin\n",
        "model.add(MaxPooling2D((2, 2)))  # 2x2 boyutunda bir maksimum havuzlama katmanı ekleyin\n",
        "model.add(Flatten())  # Düzleştirme katmanı ekleyin\n",
        "model.add(Dense(512, activation='relu'))  # 512 nöronlu tam bağlantılı katman ekleyin\n",
        "model.add(Dropout(0.5))  # Overfitting'i önlemek için Dropout katmanı ekleyin\n",
        "model.add(Dense(num_classes, activation='softmax'))  # Çıkış katmanı, sınıf sayısı kadar nöron ve softmax aktivasyon fonksiyonu\n",
        "\n",
        "# Modeli derleme\n",
        "model.compile(optimizer=Adam(), loss='categorical_crossentropy', metrics=['accuracy'])  # Adam optimizasyonu ve çapraz entropi kaybı kullanarak derleme\n",
        "\n",
        "# Modeli eğitme\n",
        "history = model.fit(\n",
        "    train_generator,  # Eğitim veri yükleyicisi\n",
        "    steps_per_epoch=train_generator.samples // batch_size,  # Bir epoch tamamlamak için adım sayısı\n",
        "    epochs=epochs,  # Eğitim döngüsü sayısı\n",
        "    validation_data=validation_generator,  # Doğrulama veri yükleyicisi\n",
        "    validation_steps=validation_generator.samples // batch_size)  # Bir doğrulama döngüsü tamamlamak için adım sayısı\n",
        "\n",
        "# Eğitim doğruluğunu yazdırma\n",
        "train_acc = history.history['accuracy']  # Eğitim doğruluğunu alın\n",
        "val_acc = history.history['val_accuracy']  # Doğrulama doğruluğunu alın\n",
        "print('Training accuracy:', train_acc)  # Eğitim doğruluğunu yazdırın\n",
        "print('Validation accuracy:', val_acc)  # Doğrulama doğruluğunu yazdırın"
      ],
      "metadata": {
        "id": "oPCkyy2xgDl5",
        "colab": {
          "base_uri": "https://localhost:8080/"
        },
        "outputId": "62e9f4ec-dc65-4496-b305-b1bdf2f9dcda"
      },
      "execution_count": null,
      "outputs": [
        {
          "output_type": "stream",
          "name": "stdout",
          "text": [
            "Epoch 1/25\n",
            "153/153 [==============================] - 1729s 11s/step - loss: 1.2661 - accuracy: 0.4275 - val_loss: 0.9749 - val_accuracy: 0.6053\n",
            "Epoch 2/25\n",
            "153/153 [==============================] - 43s 283ms/step - loss: 1.0587 - accuracy: 0.5441 - val_loss: 0.9447 - val_accuracy: 0.5987\n",
            "Epoch 3/25\n",
            "153/153 [==============================] - 42s 272ms/step - loss: 0.9605 - accuracy: 0.6021 - val_loss: 0.8269 - val_accuracy: 0.6711\n",
            "Epoch 4/25\n",
            "153/153 [==============================] - 43s 280ms/step - loss: 0.9048 - accuracy: 0.6222 - val_loss: 0.8064 - val_accuracy: 0.6678\n",
            "Epoch 5/25\n",
            "153/153 [==============================] - 40s 262ms/step - loss: 0.8203 - accuracy: 0.6772 - val_loss: 0.7339 - val_accuracy: 0.7039\n",
            "Epoch 6/25\n",
            "153/153 [==============================] - 41s 271ms/step - loss: 0.7682 - accuracy: 0.7031 - val_loss: 0.7527 - val_accuracy: 0.7533\n",
            "Epoch 7/25\n",
            "153/153 [==============================] - 44s 285ms/step - loss: 0.7336 - accuracy: 0.7170 - val_loss: 0.7371 - val_accuracy: 0.7368\n",
            "Epoch 8/25\n",
            "153/153 [==============================] - 41s 266ms/step - loss: 0.6942 - accuracy: 0.7470 - val_loss: 0.6849 - val_accuracy: 0.7895\n",
            "Epoch 9/25\n",
            "153/153 [==============================] - 40s 260ms/step - loss: 0.6797 - accuracy: 0.7478 - val_loss: 0.6471 - val_accuracy: 0.7632\n",
            "Epoch 10/25\n",
            "153/153 [==============================] - 40s 261ms/step - loss: 0.5998 - accuracy: 0.7819 - val_loss: 0.6447 - val_accuracy: 0.7928\n",
            "Epoch 11/25\n",
            "153/153 [==============================] - 40s 258ms/step - loss: 0.5824 - accuracy: 0.7906 - val_loss: 0.5511 - val_accuracy: 0.8224\n",
            "Epoch 12/25\n",
            "153/153 [==============================] - 43s 281ms/step - loss: 0.5412 - accuracy: 0.8086 - val_loss: 0.6415 - val_accuracy: 0.7862\n",
            "Epoch 13/25\n",
            "153/153 [==============================] - 40s 263ms/step - loss: 0.4797 - accuracy: 0.8222 - val_loss: 0.5518 - val_accuracy: 0.8224\n",
            "Epoch 14/25\n",
            "153/153 [==============================] - 41s 270ms/step - loss: 0.4838 - accuracy: 0.8349 - val_loss: 0.5509 - val_accuracy: 0.8092\n",
            "Epoch 15/25\n",
            "153/153 [==============================] - 40s 261ms/step - loss: 0.4359 - accuracy: 0.8501 - val_loss: 0.5921 - val_accuracy: 0.8125\n",
            "Epoch 16/25\n",
            "153/153 [==============================] - 40s 263ms/step - loss: 0.4227 - accuracy: 0.8542 - val_loss: 0.5202 - val_accuracy: 0.8289\n",
            "Epoch 17/25\n",
            "153/153 [==============================] - 43s 283ms/step - loss: 0.3939 - accuracy: 0.8661 - val_loss: 0.5879 - val_accuracy: 0.7895\n",
            "Epoch 18/25\n",
            "153/153 [==============================] - 42s 272ms/step - loss: 0.3704 - accuracy: 0.8702 - val_loss: 0.4941 - val_accuracy: 0.8322\n",
            "Epoch 19/25\n",
            "153/153 [==============================] - 40s 259ms/step - loss: 0.3694 - accuracy: 0.8697 - val_loss: 0.5279 - val_accuracy: 0.8191\n",
            "Epoch 20/25\n",
            "153/153 [==============================] - 40s 263ms/step - loss: 0.3326 - accuracy: 0.8842 - val_loss: 0.5305 - val_accuracy: 0.8355\n",
            "Epoch 21/25\n",
            "153/153 [==============================] - 41s 271ms/step - loss: 0.3341 - accuracy: 0.8846 - val_loss: 0.5473 - val_accuracy: 0.8454\n",
            "Epoch 22/25\n",
            "153/153 [==============================] - 41s 271ms/step - loss: 0.3174 - accuracy: 0.8875 - val_loss: 0.5121 - val_accuracy: 0.8421\n",
            "Epoch 23/25\n",
            "153/153 [==============================] - 40s 262ms/step - loss: 0.2941 - accuracy: 0.8969 - val_loss: 0.5857 - val_accuracy: 0.8158\n",
            "Epoch 24/25\n",
            "153/153 [==============================] - 40s 263ms/step - loss: 0.2901 - accuracy: 0.9006 - val_loss: 0.5792 - val_accuracy: 0.8355\n",
            "Epoch 25/25\n",
            "153/153 [==============================] - 42s 272ms/step - loss: 0.2640 - accuracy: 0.9138 - val_loss: 0.5749 - val_accuracy: 0.8520\n",
            "Training accuracy: [0.4275153875350952, 0.5441478490829468, 0.6020534038543701, 0.6221765875816345, 0.6772074103355408, 0.7030800580978394, 0.7170431017875671, 0.7470225691795349, 0.7478439211845398, 0.7819302082061768, 0.790554404258728, 0.8086242079734802, 0.8221765756607056, 0.834907591342926, 0.8501026630401611, 0.8542094230651855, 0.8661190867424011, 0.8702258467674255, 0.8696895241737366, 0.8841888904571533, 0.8845995664596558, 0.8874743580818176, 0.8969199061393738, 0.9006159901618958, 0.9137576818466187]\n",
            "Validation accuracy: [0.6052631735801697, 0.5986841917037964, 0.6710526347160339, 0.6677631735801697, 0.7039473652839661, 0.7532894611358643, 0.7368420958518982, 0.7894737124443054, 0.7631579041481018, 0.7927631735801697, 0.8223684430122375, 0.7861841917037964, 0.8223684430122375, 0.8092105388641357, 0.8125, 0.8289473652839661, 0.7894737124443054, 0.8322368264198303, 0.8190789222717285, 0.8355262875556946, 0.8453947305679321, 0.8421052694320679, 0.8157894611358643, 0.8355262875556946, 0.8519737124443054]\n"
          ]
        }
      ]
    },
    {
      "cell_type": "code",
      "source": [
        "# Modeli değerlendirme\n",
        "test_loss, test_acc = model.evaluate(test_generator, steps=test_generator.samples // batch_size)  # Test verisini değerlendirin\n",
        "print('Test accuracy:', test_acc)  # Test doğruluğunu yazdırın"
      ],
      "metadata": {
        "id": "lwFKfNobgDoH",
        "colab": {
          "base_uri": "https://localhost:8080/"
        },
        "outputId": "77bdc12d-ced3-4c52-9e28-bd46e5383161"
      },
      "execution_count": null,
      "outputs": [
        {
          "output_type": "stream",
          "name": "stdout",
          "text": [
            "19/19 [==============================] - 240s 13s/step - loss: 0.4727 - accuracy: 0.8454\n",
            "Test accuracy: 0.8453947305679321\n"
          ]
        }
      ]
    }
  ]
}